{
 "cells": [
  {
   "cell_type": "code",
   "execution_count": 1,
   "metadata": {},
   "outputs": [],
   "source": [
    "import pandas as pd\n",
    "import numpy as np\n",
    "from sklearn.cluster import KMeans\n",
    "from sklearn.preprocessing import StandardScaler\n",
    "from sklearn.metrics import silhouette_score\n",
    "from sklearn.impute import SimpleImputer\n",
    "import plotly.express as px"
   ]
  },
  {
   "cell_type": "code",
   "execution_count": null,
   "metadata": {},
   "outputs": [],
   "source": [
    "df = pd.read_csv(\"BulkDataLoaderGroupedData_1336_2023_12_17_12_00_00_AM_2023_12_23_11_59_59_PM__WGN Dec23 data v2.csv\")\n",
    "\n",
    "column_list = ['Gearbox_Lube_Oil_Pressure_Status', 'Active_Power', 'Gen_RPM_CCU']\n",
    "\n",
    "key = []\n",
    "frames = []\n",
    "\n",
    "# Feature extraction and processing for each turbine\n",
    "for i in range(19):  # Turbines 50-68, excluding 60 and 61\n",
    "    if i not in [10, 11]:  # Exclude turbines 60 and 61\n",
    "        turbine_id = str(50 + i)\n",
    "        turbine_prefix = f'GN1_GE23xxx_WTG00{turbine_id}_'\n",
    "        \n",
    "        # Initialize DataFrame for the turbine with 'pollTime'\n",
    "        temp = pd.DataFrame(df['pollTime'])\n",
    "\n",
    "        # Process specified columns\n",
    "        for column_name in column_list:\n",
    "            column_key = turbine_prefix + column_name\n",
    "            if column_key in df.columns:\n",
    "                temp[column_name] = pd.to_numeric(df[column_key], errors='coerce')\n",
    "            else:\n",
    "                temp[column_name] = pd.NA\n",
    "\n",
    "        # Feature extraction on a per-turbine before stacking\n",
    "        temp = temp[temp['Active_Power'] < 0]\n",
    "        \n",
    "        temp['Active_Power_Diff'] = temp['Active_Power'].diff()\n",
    "\n",
    "        temp['Gearbox_Lube_Oil_Pressure_Status'] = pd.to_numeric(temp['Gearbox_Lube_Oil_Pressure_Status'], errors='coerce')\n",
    "\n",
    "        temp['Gearbox_Lube_Oil_Rolling_AVG'] = temp['Gearbox_Lube_Oil_Pressure_Status'].rolling(window=180, min_periods=60).mean()\n",
    "\n",
    "        temp['Gearbox_Lube_Oil_Rolling_AVG'] = temp['Gearbox_Lube_Oil_Rolling_AVG'].bfill()\n",
    "\n",
    "        temp['Gen_RPM_CCU'] = temp['Gen_RPM_CCU'].bfill()\n",
    "\n",
    "\n",
    "        temp.set_index('pollTime', inplace=True)\n",
    "\n",
    "        # Append processed DataFrame to the list\n",
    "        frames.append(temp)\n",
    "        key.append(turbine_id)\n",
    "\n",
    "# Concatenate all processed turbine dataframes\n",
    "df_combined = pd.concat(frames, keys=key, names=['key', 'pollTime'])\n",
    "\n",
    "df_combined.drop('Gearbox_Lube_Oil_Pressure_Status', axis=1, inplace=True)\n",
    "\n"
   ]
  },
  {
   "cell_type": "code",
   "execution_count": null,
   "metadata": {},
   "outputs": [],
   "source": [
    "#df_combined.index.get_level_values(0).unique()\n",
    "#print(df_combined.loc['68'].head())\n",
    "\n",
    "#print(df_combined.describe())\n",
    "#df_combined.isna().sum() / len(df_combined)\n",
    "\n",
    "df_combined = df_combined.dropna()\n",
    "\n",
    "scaler = StandardScaler()\n",
    "df_normalized = scaler.fit_transform(df_combined)\n",
    "\n",
    "inertia = []\n",
    "k_range = range(1, 20)  \n",
    "for k in k_range:\n",
    "    kmeans = KMeans(n_clusters=k, random_state=42)\n",
    "    kmeans.fit(df_normalized)\n",
    "    inertia.append(kmeans.inertia_)"
   ]
  },
  {
   "cell_type": "code",
   "execution_count": null,
   "metadata": {},
   "outputs": [],
   "source": [
    "# Plotting the Elbow Method \n",
    "import matplotlib.pyplot as plt\n",
    "plt.plot(k_range, inertia, '-o')\n",
    "plt.xlabel('Number of clusters, k')\n",
    "plt.ylabel('Inertia')\n",
    "plt.title('Elbow Method For Optimal k')\n",
    "plt.show()"
   ]
  },
  {
   "cell_type": "code",
   "execution_count": null,
   "metadata": {},
   "outputs": [],
   "source": [
    "chosen_k = 10 \n",
    "kmeans = KMeans(n_clusters=chosen_k, random_state=42)\n",
    "df_combined['Cluster'] = kmeans.fit_predict(df_normalized)"
   ]
  },
  {
   "cell_type": "code",
   "execution_count": null,
   "metadata": {},
   "outputs": [],
   "source": [
    "# try seasborn library, Kimberly Fassel on Youtube for information\n",
    "# hvplot : plotly as backend  \n",
    "\n",
    "df_combined.loc[:,['Active_Power', 'Gearbox_Lube_Oil_Rolling_AVG', 'Cluster']].plot(kind='line', figsize=(16,8))"
   ]
  },
  {
   "cell_type": "code",
   "execution_count": null,
   "metadata": {},
   "outputs": [],
   "source": [
    "# Plotting\n",
    "plt.figure(figsize=(10, 8))\n",
    "plt.hexbin(df_combined['Gen_RPM_CCU'], df_combined['Active_Power'], gridsize=30, cmap='viridis', C=df_combined['Cluster'])\n",
    "plt.colorbar(label='Cluster')\n",
    "plt.xlabel('Gen RPM')\n",
    "plt.ylabel('Active Power')\n",
    "plt.title('Hexbin plot of Active Power vs Gen RPM CCU with Cluster as hue')\n",
    "plt.show()"
   ]
  }
 ],
 "metadata": {
  "kernelspec": {
   "display_name": "Python 3.10.5 64-bit",
   "language": "python",
   "name": "python3"
  },
  "language_info": {
   "codemirror_mode": {
    "name": "ipython",
    "version": 3
   },
   "file_extension": ".py",
   "mimetype": "text/x-python",
   "name": "python",
   "nbconvert_exporter": "python",
   "pygments_lexer": "ipython3",
   "version": "3.9.18"
  },
  "vscode": {
   "interpreter": {
    "hash": "3fdbe576eb87f4baba6a23725f58c8da03c0612f6b5c93b1de163eb7f05251e9"
   }
  }
 },
 "nbformat": 4,
 "nbformat_minor": 2
}
