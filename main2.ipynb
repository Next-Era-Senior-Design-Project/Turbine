{
 "cells": [
  {
   "cell_type": "code",
   "execution_count": 2,
   "metadata": {},
   "outputs": [],
   "source": [
    "import pandas as pd\n",
    "import numpy as np\n",
    "from sklearn.cluster import KMeans\n",
    "from sklearn.preprocessing import StandardScaler\n",
    "from sklearn.metrics import silhouette_score\n",
    "from sklearn.impute import SimpleImputer\n",
    "import plotly.express as px"
   ]
  },
  {
   "cell_type": "code",
   "execution_count": null,
   "metadata": {},
   "outputs": [],
   "source": [
    "df = pd.read_csv(\"BulkDataLoaderGroupedData_1336_2023_12_17_12_00_00_AM_2023_12_23_11_59_59_PM__WGN Dec23 data v2.csv\")\n",
    "\n",
    "patterns = [\n",
    "    \"Active_Power\",\n",
    "    \"Gearbox_Lube_Oil_Pressure_Status\",\n",
    "    \"Gen_RPM_CCU\",\n",
    "    \"L1_Current\"\n",
    "]\n",
    "\n",
    "# Identify columns matching the patterns\n",
    "columns_for_all_turbines = [col for col in df.columns if any(pattern in col for pattern in patterns)]\n",
    "\n",
    "# Filter the dataframe based on these columns\n",
    "df_filtered_all_turbines = df[columns_for_all_turbines]\n",
    "\n",
    "df = df_filtered_all_turbines\n",
    "\n",
    "df = df.apply(pd.to_numeric, errors='coerce')\n",
    "\n",
    "\n",
    "active_power_columns = [col for col in df.columns if \"Active_Power\" in col]\n",
    "for col in active_power_columns:\n",
    "    df[col] = df[col].where(df[col] <= 0)\n",
    "\n",
    "Gearbox_Lube_Oil_Pressure_Status_Columns = [col for col in df.columns if \"Gearbox_Lube_Oil_Pressure_Status\" in col]\n",
    "\n",
    "\n",
    "df = df.dropna(subset=active_power_columns)\n",
    "\n",
    "for col in active_power_columns:\n",
    "    df[col + \"_diff\"] = df[col].diff()\n",
    "\n",
    "window_size = 30\n",
    "\n",
    "for col in Gearbox_Lube_Oil_Pressure_Status_Columns:\n",
    "    df[col + \"_rolling_avg\"] = df[col].rolling(window = window_size).sum() / window_size\n",
    "\n"
   ]
  },
  {
   "cell_type": "code",
   "execution_count": null,
   "metadata": {},
   "outputs": [],
   "source": [
    "imputer = SimpleImputer(strategy='mean')\n",
    "df_filled = pd.DataFrame(imputer.fit_transform(df), columns=df.columns)\n",
    "\n",
    "scaler = StandardScaler()\n",
    "df_normalized = scaler.fit_transform(df_filled)\n",
    "\n",
    "inertia = []\n",
    "k_range = range(1, 20)  \n",
    "for k in k_range:\n",
    "    kmeans = KMeans(n_clusters=k, random_state=42)\n",
    "    kmeans.fit(df_normalized)\n",
    "    inertia.append(kmeans.inertia_)\n",
    "\n",
    "\"\"\"\n",
    "# Plotting the Elbow Method \n",
    "import matplotlib.pyplot as plt\n",
    "plt.plot(k_range, inertia, '-o')\n",
    "plt.xlabel('Number of clusters, k')\n",
    "plt.ylabel('Inertia')\n",
    "plt.title('Elbow Method For Optimal k')\n",
    "plt.show()\n",
    "\"\"\"\n",
    "\"\"\"\n",
    "# Calculate Silhouette Score for each k\n",
    "for k in k_range[1:]:  # silhouette score can't be calculated for k=1\n",
    "    kmeans = KMeans(n_clusters=k, random_state=42)\n",
    "    kmeans.fit(df_normalized)\n",
    "    score = silhouette_score(df_normalized, kmeans.labels_)\n",
    "    print(f\"Silhouette Score for k={k}: {score}\")\n",
    "\"\"\"\n",
    "\n",
    "\n",
    "chosen_k = 7 \n",
    "kmeans = KMeans(n_clusters=chosen_k, random_state=42)\n",
    "df['Cluster'] = kmeans.fit_predict(df_normalized)\n"
   ]
  },
  {
   "cell_type": "code",
   "execution_count": null,
   "metadata": {},
   "outputs": [],
   "source": [
    "clusterData = df[df['Cluster'] == 6]\n",
    "\n",
    "clusterData.head(10)"
   ]
  }
 ],
 "metadata": {
  "kernelspec": {
   "display_name": "py39",
   "language": "python",
   "name": "python3"
  },
  "language_info": {
   "codemirror_mode": {
    "name": "ipython",
    "version": 3
   },
   "file_extension": ".py",
   "mimetype": "text/x-python",
   "name": "python",
   "nbconvert_exporter": "python",
   "pygments_lexer": "ipython3",
   "version": "3.9.18"
  }
 },
 "nbformat": 4,
 "nbformat_minor": 2
}
