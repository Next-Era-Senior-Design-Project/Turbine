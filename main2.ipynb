{
 "cells": [
  {
   "cell_type": "code",
   "execution_count": 1,
   "metadata": {},
   "outputs": [],
   "source": [
    "import pandas as pd\n",
    "import numpy as np\n",
    "from sklearn.cluster import KMeans\n",
    "from sklearn.preprocessing import StandardScaler\n",
    "from sklearn.metrics import silhouette_score\n",
    "import plotly.express as px\n",
    "import matplotlib.pyplot as plt"
   ]
  },
  {
   "cell_type": "code",
   "execution_count": null,
   "metadata": {},
   "outputs": [],
   "source": [
    "df = pd.read_csv(\"BulkDataLoaderGroupedData_1336_2023_12_17_12_00_00_AM_2023_12_23_11_59_59_PM__WGN Dec23 data v2.csv\")\n",
    "\n",
    "column_list = ['Gearbox_Lube_Oil_Pressure_Status', 'Active_Power', 'Gen_RPM_CCU']\n",
    "\n",
    "key = []\n",
    "frames = []\n",
    "\n",
    "# Process for each turbine, including the initial setup for turbine ID 50\n",
    "for i in range(19):  # Loop to include turbines 50-68, excluding 60 and 61\n",
    "    # Exclude turbines 60 and 61\n",
    "    if i != 9 and i != 10:\n",
    "        turbine_id = str(i + 50) if i >= 0 else '50'\n",
    "        turbine_prefix = f'GN1_GE23xxx_WTG00{turbine_id}_'\n",
    "        \n",
    "        # Initialize DataFrame with pollTime, to be used as index later\n",
    "        temp = pd.DataFrame(df['pollTime'])\n",
    "        \n",
    "        # Copy data for the specified columns and convert non-numeric data to NaN\n",
    "        for column_name in column_list:\n",
    "            column_key = turbine_prefix + column_name\n",
    "            if column_key in df.columns:\n",
    "                # Use pd.to_numeric() with errors='coerce' to convert non-numeric values to NaN\n",
    "                temp[column_name] = pd.to_numeric(df[column_key], errors='coerce')\n",
    "            else:\n",
    "                # Initialize the column with NaN values if not present in the original DataFrame\n",
    "                temp[column_name] = pd.NA\n",
    "        \n",
    "        # Filter the DataFrame to only include rows where Active_Power is negative\n",
    "        temp_filtered = temp[temp['Active_Power'] < 0]\n",
    "        \n",
    "        key.append(turbine_id)\n",
    "        frames.append(temp_filtered)\n",
    "\n",
    "# Combine all filtered turbine data\n",
    "frames_cleaned = [frame.dropna(axis=1, how='all') for frame in frames]  # Drop columns that are all NA in each DataFrame\n",
    "df_combined = pd.concat(frames_cleaned, keys=key)\n",
    "\n",
    "# Setting 'pollTime' as the index of the combined DataFrame\n",
    "df_combined.reset_index(inplace=True) # Reset index to manipulate 'pollTime'\n",
    "df_combined['pollTime'] = pd.to_datetime(df_combined['pollTime'], errors='coerce', utc=True) # Ensure datetime conversion\n",
    "df_combined.set_index('pollTime', inplace=True) # Set 'pollTime' back as the index\n",
    "\n",
    "\n",
    "\n"
   ]
  },
  {
   "cell_type": "code",
   "execution_count": null,
   "metadata": {},
   "outputs": [],
   "source": [
    "df_combined['Active_Power_Diff'] = df_combined['Active_Power'].diff()\n",
    "\n",
    "df_combined = df_combined.dropna(subset=['Active_Power_Diff'])\n"
   ]
  },
  {
   "cell_type": "code",
   "execution_count": null,
   "metadata": {},
   "outputs": [],
   "source": [
    "nan_counts = df_combined['Gearbox_Lube_Oil_Pressure_Status'].isna().resample('30T').sum()\n",
    "#print(nan_counts)\n",
    "\n",
    "nan_threshold = 181\n",
    "\n",
    "# Create a mask for acceptable data based on your threshold\n",
    "mask = nan_counts <= nan_threshold\n",
    "#print(mask.describe())\n",
    "\n",
    "# Aggregate data with resample and apply mask for NaN count threshold\n",
    "mean_values = df_combined['Gearbox_Lube_Oil_Pressure_Status'].resample('30T').mean()[mask]\n",
    "\n",
    "# Reindex or merge this back to your original DataFrame as needed, ensuring alignment\n",
    "# For example, using reindex like:\n",
    "df_combined['Gearbox_Lube_Oil_Freq'] = mean_values.reindex(df_combined.index, method='nearest')\n",
    "\n",
    "df_combined.dropna(subset=['Gearbox_Lube_Oil_Freq'], inplace=True)"
   ]
  },
  {
   "cell_type": "code",
   "execution_count": null,
   "metadata": {},
   "outputs": [],
   "source": [
    "# Selecting only the relevant columns for K-means\n",
    "df_kmeans = df_combined[['Active_Power', 'Active_Power_Diff', 'Gen_RPM_CCU', 'Gearbox_Lube_Oil_Freq']]\n",
    "\n",
    "# Initialize the StandardScaler\n",
    "scaler = StandardScaler()\n",
    "\n",
    "# Fit and transform the data for standardization\n",
    "df_kmeans_scaled = scaler.fit_transform(df_kmeans)\n",
    "\n",
    "# Now df_kmeans_scaled is an array; convert it back to DataFrame if you need DataFrame operations\n",
    "df_kmeans_scaled = pd.DataFrame(df_kmeans_scaled, columns=df_kmeans.columns, index=df_kmeans.index)\n",
    "\n",
    "\"\"\"\n",
    "k_range = range(2, 15)\n",
    "elbow_values = []\n",
    "\n",
    "\n",
    "for k in k_range:\n",
    "    kmeans = KMeans(n_clusters=k, random_state=0).fit(df_kmeans_scaled)\n",
    "    \n",
    "    # For the elbow method\n",
    "    elbow_values.append(kmeans.inertia_)\n",
    "\n",
    "# Plotting the Elbow Method\n",
    "plt.figure(figsize=(10, 5))\n",
    "plt.plot(k_range, elbow_values, 'bo-', label='Sum of squared distances')\n",
    "plt.xlabel('Number of clusters (k)')\n",
    "plt.ylabel('Sum of squared distances')\n",
    "plt.title('Elbow Method For Optimal k')\n",
    "plt.legend()\n",
    "plt.show()\n",
    "\"\"\""
   ]
  },
  {
   "cell_type": "code",
   "execution_count": null,
   "metadata": {},
   "outputs": [],
   "source": [
    "kmeans = KMeans(n_clusters=10, random_state=0).fit(df_kmeans_scaled)\n",
    "\n",
    "# Getting the cluster labels\n",
    "cluster_labels = kmeans.labels_\n",
    "\n",
    "# If you want to add the cluster labels back to the original DataFrame\n",
    "df_kmeans['Cluster'] = cluster_labels"
   ]
  }
 ],
 "metadata": {
  "kernelspec": {
   "display_name": "Python 3.10.5 64-bit",
   "language": "python",
   "name": "python3"
  },
  "language_info": {
   "codemirror_mode": {
    "name": "ipython",
    "version": 3
   },
   "file_extension": ".py",
   "mimetype": "text/x-python",
   "name": "python",
   "nbconvert_exporter": "python",
   "pygments_lexer": "ipython3",
   "version": "0.0.0"
  },
  "vscode": {
   "interpreter": {
    "hash": "3fdbe576eb87f4baba6a23725f58c8da03c0612f6b5c93b1de163eb7f05251e9"
   }
  }
 },
 "nbformat": 4,
 "nbformat_minor": 2
}
